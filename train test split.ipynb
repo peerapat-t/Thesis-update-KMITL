{
 "cells": [
  {
   "cell_type": "code",
   "execution_count": 34,
   "metadata": {},
   "outputs": [],
   "source": [
    "import numpy as np\n",
    "import pandas as pd\n",
    "import duckdb"
   ]
  },
  {
   "cell_type": "code",
   "execution_count": 35,
   "metadata": {},
   "outputs": [],
   "source": [
    "from evaluation import *"
   ]
  },
  {
   "cell_type": "code",
   "execution_count": 36,
   "metadata": {},
   "outputs": [],
   "source": [
    "from cf_model import sgd_mf, sgd_mmf, sgd_wmf, sgd_mwmf"
   ]
  },
  {
   "cell_type": "markdown",
   "metadata": {},
   "source": [
    "# Import data"
   ]
  },
  {
   "cell_type": "code",
   "execution_count": 37,
   "metadata": {},
   "outputs": [],
   "source": [
    "df_txn = pd.read_csv('./database/transactions.csv')\n",
    "df_price = pd.read_csv('./database/close_prices.csv')"
   ]
  },
  {
   "cell_type": "code",
   "execution_count": 38,
   "metadata": {},
   "outputs": [],
   "source": [
    "df_txn = duckdb.query(\"\"\"\n",
    "select yyyymm, customerID, ISIN, transactionType, sum(units) as unit\n",
    "from \n",
    "    (\n",
    "    select *\n",
    "    , year(cast(timestamp as date))*100 + month(cast(timestamp as date)) as yyyymm\n",
    "    from df_txn\n",
    "    where transactionType = 'Buy'\n",
    "    ) a\n",
    "group by yyyymm, customerID, ISIN, transactionType\n",
    "\"\"\").to_df()"
   ]
  },
  {
   "cell_type": "code",
   "execution_count": 39,
   "metadata": {},
   "outputs": [],
   "source": [
    "df_return = duckdb.query(\"\"\"\n",
    "select isin, yyyymm\n",
    ", (closePrice-closePrice_lag)/closePrice_lag as daily_return\n",
    "from\n",
    "    (\n",
    "    select *\n",
    "    , year(cast(timestamp as date))*100 + month(cast(timestamp as date)) as yyyymm\n",
    "    , lag(closePrice,1) over(partition by isin order by cast(timestamp as date)) closePrice_lag\n",
    "    from df_price\n",
    "    ) a\n",
    "where closePrice_lag is not null\n",
    "\"\"\").to_df()"
   ]
  },
  {
   "cell_type": "markdown",
   "metadata": {},
   "source": [
    "# Create template"
   ]
  },
  {
   "cell_type": "code",
   "execution_count": 40,
   "metadata": {},
   "outputs": [],
   "source": [
    "unique_customerid = df_txn['customerID'].unique()[:100]\n",
    "unique_isin = df_txn['ISIN'].unique()[:]"
   ]
  },
  {
   "cell_type": "code",
   "execution_count": 41,
   "metadata": {},
   "outputs": [],
   "source": [
    "df_customer = pd.DataFrame(unique_customerid, columns=['customerID'])\n",
    "df_isin = pd.DataFrame(unique_isin, columns=['ISIN'])"
   ]
  },
  {
   "cell_type": "code",
   "execution_count": 42,
   "metadata": {},
   "outputs": [],
   "source": [
    "df_user_item_template = df_customer.merge(df_isin, how='cross')"
   ]
  },
  {
   "cell_type": "markdown",
   "metadata": {},
   "source": [
    "# Split train-val-test (user-item)"
   ]
  },
  {
   "cell_type": "code",
   "execution_count": 43,
   "metadata": {},
   "outputs": [],
   "source": [
    "yyyy_list = [201912, 202006, 202012, 202106, 202112, 202206]"
   ]
  },
  {
   "cell_type": "code",
   "execution_count": 44,
   "metadata": {},
   "outputs": [],
   "source": [
    "fold = 5"
   ]
  },
  {
   "cell_type": "code",
   "execution_count": 45,
   "metadata": {},
   "outputs": [
    {
     "name": "stdout",
     "output_type": "stream",
     "text": [
      "===================================\n",
      "fold: 1\n",
      "train: 201801 201912\n",
      "val: 201801 202006\n",
      "===================================\n"
     ]
    }
   ],
   "source": [
    "for i in range(fold):\n",
    "    print('===================================')\n",
    "    print('fold:', i+1)\n",
    "    print('train:', 201801, yyyy_list[i])\n",
    "    print('val:', 201801, yyyy_list[i+1])\n",
    "    print('===================================')\n",
    "\n",
    "    df_train = df_txn[(df_txn['yyyymm'] >= 201801) & (df_txn['yyyymm'] <= yyyy_list[i])]\n",
    "    df_val = df_txn[(df_txn['yyyymm'] >= 201801) & (df_txn['yyyymm'] <= yyyy_list[i+1])]\n",
    "\n",
    "    df_train = df_train.groupby([\"customerID\", \"ISIN\"])[\"ISIN\"].nunique().reset_index(name=\"action\")\n",
    "    df_val = df_val.groupby([\"customerID\", \"ISIN\"])[\"ISIN\"].nunique().reset_index(name=\"action\")\n",
    "\n",
    "    df_train = pd.merge(df_user_item_template, df_train, on=['customerID','ISIN'], how='left').fillna(0)\n",
    "    df_val = pd.merge(df_user_item_template, df_val, on=['customerID','ISIN'], how='left').fillna(0)\n",
    "\n",
    "    train_array = df_train.pivot_table(index='customerID', columns='ISIN', values='action', fill_value=0).values\n",
    "    val_array = df_val.pivot_table(index='customerID', columns='ISIN', values='action', fill_value=0).values\n",
    "\n",
    "    break"
   ]
  },
  {
   "cell_type": "code",
   "execution_count": 46,
   "metadata": {},
   "outputs": [
    {
     "data": {
      "text/plain": [
       "((100, 320), (100, 320))"
      ]
     },
     "execution_count": 46,
     "metadata": {},
     "output_type": "execute_result"
    }
   ],
   "source": [
    "train_array.shape, val_array.shape"
   ]
  },
  {
   "cell_type": "markdown",
   "metadata": {},
   "source": [
    "# Split train-val-test (mean)"
   ]
  },
  {
   "cell_type": "code",
   "execution_count": 47,
   "metadata": {},
   "outputs": [],
   "source": [
    "yyyy_list = [201906, 201912, 202006, 202012, 202106, 202112, 202206]"
   ]
  },
  {
   "cell_type": "code",
   "execution_count": 48,
   "metadata": {},
   "outputs": [],
   "source": [
    "fold = 5"
   ]
  },
  {
   "cell_type": "code",
   "execution_count": 49,
   "metadata": {},
   "outputs": [
    {
     "name": "stdout",
     "output_type": "stream",
     "text": [
      "===================================\n",
      "fold: 1\n",
      "train: 201906 201912\n",
      "val: 201912 202006\n",
      "===================================\n"
     ]
    }
   ],
   "source": [
    "for i in range(fold):\n",
    "    print('===================================')\n",
    "    print('fold:', i+1)\n",
    "    print('train:', yyyy_list[i], yyyy_list[i+1])\n",
    "    print('val:', yyyy_list[i+1], yyyy_list[i+2])\n",
    "    print('===================================')\n",
    "\n",
    "    df_train_return = df_return[(df_return['yyyymm'] > yyyy_list[i]) & (df_return['yyyymm'] <= yyyy_list[i+1])]\n",
    "    df_val_return = df_return[(df_return['yyyymm'] > yyyy_list[i+1]) & (df_return['yyyymm'] <= yyyy_list[i+2])]\n",
    "    \n",
    "    train_mean_df = df_train_return.groupby(\"ISIN\")[\"daily_return\"].mean().reset_index()\n",
    "    val_mean_df = df_val_return.groupby(\"ISIN\")[\"daily_return\"].mean().reset_index()\n",
    "\n",
    "    train_mean_df = pd.merge(df_isin, train_mean_df, on=['ISIN'], how='left').fillna(0)\n",
    "    val_mean_df = pd.merge(df_isin, val_mean_df, on=['ISIN'], how='left').fillna(0)\n",
    "\n",
    "    train_mean_array = train_mean_df['daily_return'].values\n",
    "    val_mean_array = val_mean_df['daily_return'].values\n",
    "\n",
    "    break"
   ]
  },
  {
   "cell_type": "markdown",
   "metadata": {},
   "source": [
    "# Train model"
   ]
  },
  {
   "cell_type": "code",
   "execution_count": 50,
   "metadata": {},
   "outputs": [
    {
     "name": "stdout",
     "output_type": "stream",
     "text": [
      "Epoch 1000/1000, SSE: 99.371075671\r"
     ]
    }
   ],
   "source": [
    "pred_array_mf = sgd_mf(train_array, K=50, epochs=1000)"
   ]
  },
  {
   "cell_type": "code",
   "execution_count": 51,
   "metadata": {},
   "outputs": [
    {
     "name": "stdout",
     "output_type": "stream",
     "text": [
      "Epoch 1000/1000, SSE: 95.884285551\r"
     ]
    }
   ],
   "source": [
    "pred_array_mmf = sgd_mmf(train_array, train_mean_array, K=50, epochs=1000)"
   ]
  },
  {
   "cell_type": "code",
   "execution_count": 52,
   "metadata": {},
   "outputs": [
    {
     "name": "stdout",
     "output_type": "stream",
     "text": [
      "Epoch 1000/1000, SSE: 685.583765453\r"
     ]
    }
   ],
   "source": [
    "pred_array_wmf = sgd_wmf(train_array, K=50, epochs=1000)"
   ]
  },
  {
   "cell_type": "code",
   "execution_count": 53,
   "metadata": {},
   "outputs": [
    {
     "name": "stdout",
     "output_type": "stream",
     "text": [
      "Epoch 1000/1000, SSE: 698.868987805\r"
     ]
    }
   ],
   "source": [
    "pred_array_mwmf = sgd_mwmf(train_array, train_mean_array, K=50, epochs=1000)"
   ]
  },
  {
   "cell_type": "markdown",
   "metadata": {},
   "source": [
    "# Evaluation"
   ]
  },
  {
   "cell_type": "code",
   "execution_count": 54,
   "metadata": {},
   "outputs": [
    {
     "data": {
      "text/plain": [
       "0.0034000000000000002"
      ]
     },
     "execution_count": 54,
     "metadata": {},
     "output_type": "execute_result"
    }
   ],
   "source": [
    "pred_top_k_mf = get_top_k(pred_array_mf, 5)\n",
    "mapk(val_array, pred_top_k_mf, k=5)"
   ]
  },
  {
   "cell_type": "code",
   "execution_count": 55,
   "metadata": {},
   "outputs": [
    {
     "data": {
      "text/plain": [
       "0.0006666666666666666"
      ]
     },
     "execution_count": 55,
     "metadata": {},
     "output_type": "execute_result"
    }
   ],
   "source": [
    "pred_top_k_mmf = get_top_k(pred_array_mmf, 5)\n",
    "mapk(val_array, pred_top_k_mmf, k=5)"
   ]
  },
  {
   "cell_type": "code",
   "execution_count": 56,
   "metadata": {},
   "outputs": [
    {
     "data": {
      "text/plain": [
       "0.8055"
      ]
     },
     "execution_count": 56,
     "metadata": {},
     "output_type": "execute_result"
    }
   ],
   "source": [
    "pred_top_k_wmf = get_top_k(pred_array_wmf, 5)\n",
    "mapk(val_array, pred_top_k_wmf, k=5)"
   ]
  },
  {
   "cell_type": "code",
   "execution_count": 57,
   "metadata": {},
   "outputs": [
    {
     "data": {
      "text/plain": [
       "0.8132"
      ]
     },
     "execution_count": 57,
     "metadata": {},
     "output_type": "execute_result"
    }
   ],
   "source": [
    "pred_top_k_mwmf = get_top_k(pred_array_mwmf, 5)\n",
    "mapk(val_array, pred_top_k_mwmf, k=5)"
   ]
  }
 ],
 "metadata": {
  "kernelspec": {
   "display_name": "base",
   "language": "python",
   "name": "python3"
  },
  "language_info": {
   "codemirror_mode": {
    "name": "ipython",
    "version": 3
   },
   "file_extension": ".py",
   "mimetype": "text/x-python",
   "name": "python",
   "nbconvert_exporter": "python",
   "pygments_lexer": "ipython3",
   "version": "3.12.7"
  }
 },
 "nbformat": 4,
 "nbformat_minor": 2
}
